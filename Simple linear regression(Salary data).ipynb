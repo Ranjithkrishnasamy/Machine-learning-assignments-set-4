{
  "nbformat": 4,
  "nbformat_minor": 0,
  "metadata": {
    "colab": {
      "provenance": [],
      "authorship_tag": "ABX9TyP/mJ1bRK8+XPpeQYB6RzjK",
      "include_colab_link": true
    },
    "kernelspec": {
      "name": "python3",
      "display_name": "Python 3"
    },
    "language_info": {
      "name": "python"
    }
  },
  "cells": [
    {
      "cell_type": "markdown",
      "metadata": {
        "id": "view-in-github",
        "colab_type": "text"
      },
      "source": [
        "<a href=\"https://colab.research.google.com/github/Ranjithkrishnasamy/Resub-DS-assignments-1-3/blob/main/Simple%20linear%20regression(Salary%20data).ipynb\" target=\"_parent\"><img src=\"https://colab.research.google.com/assets/colab-badge.svg\" alt=\"Open In Colab\"/></a>"
      ]
    },
    {
      "cell_type": "code",
      "execution_count": 1,
      "metadata": {
        "id": "xzjhQ347RYZF"
      },
      "outputs": [],
      "source": [
        "import pandas as pd\n",
        "import numpy as np\n",
        "import statsmodels.formula.api as smf\n",
        "import matplotlib.pyplot as plt"
      ]
    },
    {
      "cell_type": "code",
      "source": [
        "path = r\"/content/Salary_Data.csv\""
      ],
      "metadata": {
        "id": "3tvdTzgXRkgY"
      },
      "execution_count": 2,
      "outputs": []
    },
    {
      "cell_type": "code",
      "source": [
        "dataset = pd.read_csv(path)"
      ],
      "metadata": {
        "id": "JBEbcRZ4Rp-E"
      },
      "execution_count": 3,
      "outputs": []
    },
    {
      "cell_type": "code",
      "source": [
        "model_1 = smf.ols('Salary ~ YearsExperience', data=dataset).fit()"
      ],
      "metadata": {
        "id": "tatQ-lOZRuEI"
      },
      "execution_count": 6,
      "outputs": []
    },
    {
      "cell_type": "code",
      "source": [
        "model_2 = smf.ols('Salary ~ np.log(YearsExperience)', data=dataset).fit()\n"
      ],
      "metadata": {
        "id": "po5EiEqSSA3r"
      },
      "execution_count": 7,
      "outputs": []
    },
    {
      "cell_type": "code",
      "source": [
        "model_3 = smf.ols('Salary ~ np.sqrt(YearsExperience)', data=dataset).fit()"
      ],
      "metadata": {
        "id": "SHlN7NgoSEBN"
      },
      "execution_count": 8,
      "outputs": []
    },
    {
      "cell_type": "code",
      "source": [
        "model_4 = smf.ols('Salary ~ np.exp(YearsExperience)', data=dataset).fit()"
      ],
      "metadata": {
        "id": "562iF4K2SHKK"
      },
      "execution_count": 9,
      "outputs": []
    },
    {
      "cell_type": "code",
      "source": [
        "print(\"R-squared values:\")\n",
        "print(\"Model 1 (No transformation):\", model_1.rsquared)\n",
        "print(\"Model 2 (Log transformation):\", model_2.rsquared)\n",
        "print(\"Model 3 (Square root transformation):\", model_3.rsquared)\n",
        "print(\"Model 4 (Exponential transformation):\", model_4.rsquared)"
      ],
      "metadata": {
        "colab": {
          "base_uri": "https://localhost:8080/"
        },
        "id": "AmVHFq7wSKiH",
        "outputId": "48938888-3d77-4da4-8b7b-df24e5ac7130"
      },
      "execution_count": 10,
      "outputs": [
        {
          "output_type": "stream",
          "name": "stdout",
          "text": [
            "R-squared values:\n",
            "Model 1 (No transformation): 0.9569566641435086\n",
            "Model 2 (Log transformation): 0.8538888828756969\n",
            "Model 3 (Square root transformation): 0.9310009544993526\n",
            "Model 4 (Exponential transformation): 0.47238440560728734\n"
          ]
        }
      ]
    },
    {
      "cell_type": "code",
      "source": [
        "best_model = model_1\n",
        "best_model_name = \"Model 1 (No transformation)\"\n",
        "\n",
        "if model_2.rsquared > best_model.rsquared:\n",
        "    best_model = model_2\n",
        "    best_model_name = \"Model 2 (Log transformation)\"\n",
        "\n",
        "if model_3.rsquared > best_model.rsquared:\n",
        "    best_model = model_3\n",
        "    best_model_name = \"Model 3 (Square root transformation)\"\n",
        "\n",
        "if model_4.rsquared > best_model.rsquared:\n",
        "    best_model = model_4\n",
        "    best_model_name = \"Model 4 (Exponential transformation)\""
      ],
      "metadata": {
        "id": "_RYwzPYWSOJH"
      },
      "execution_count": 11,
      "outputs": []
    },
    {
      "cell_type": "code",
      "source": [
        "print(\"Best Model:\", best_model_name)"
      ],
      "metadata": {
        "colab": {
          "base_uri": "https://localhost:8080/"
        },
        "id": "aAOfA1wCSUih",
        "outputId": "12672974-50ab-4ce2-c2f0-0b69cd5abaad"
      },
      "execution_count": 12,
      "outputs": [
        {
          "output_type": "stream",
          "name": "stdout",
          "text": [
            "Best Model: Model 1 (No transformation)\n"
          ]
        }
      ]
    },
    {
      "cell_type": "code",
      "source": [
        "new_data = pd.DataFrame({'YearsExperience': np.linspace(1, 10, 100)})\n",
        "predictions = best_model.predict(new_data)"
      ],
      "metadata": {
        "id": "M2DBcxUmScVs"
      },
      "execution_count": 13,
      "outputs": []
    },
    {
      "cell_type": "code",
      "source": [
        "plt.scatter(dataset['YearsExperience'], dataset['Salary'], color='blue', label='Actual Data')\n",
        "plt.plot(new_data['YearsExperience'], predictions, color='red', label='Fitted Line')\n",
        "plt.xlabel('Years of Experience')\n",
        "plt.ylabel('Salary')\n",
        "plt.title('Linear Regression Model')\n",
        "plt.legend()\n",
        "plt.show()"
      ],
      "metadata": {
        "colab": {
          "base_uri": "https://localhost:8080/",
          "height": 472
        },
        "id": "PVHU9LrHSdxf",
        "outputId": "e4d1a169-d477-464c-ffa9-4745c06c91cb"
      },
      "execution_count": 14,
      "outputs": [
        {
          "output_type": "display_data",
          "data": {
            "text/plain": [
              "<Figure size 640x480 with 1 Axes>"
            ],
            "image/png": "[encoded data removed]"
          },
          "metadata": {}
        }
      ]
    }
  ]
}