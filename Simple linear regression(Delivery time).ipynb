{
  "nbformat": 4,
  "nbformat_minor": 0,
  "metadata": {
    "colab": {
      "provenance": [],
      "authorship_tag": "ABX9TyMND5yIaLrtLz4COD/f3dMQ",
      "include_colab_link": true
    },
    "kernelspec": {
      "name": "python3",
      "display_name": "Python 3"
    },
    "language_info": {
      "name": "python"
    }
  },
  "cells": [
    {
      "cell_type": "markdown",
      "metadata": {
        "id": "view-in-github",
        "colab_type": "text"
      },
      "source": [
        "<a href=\"https://colab.research.google.com/github/Ranjithkrishnasamy/Resub-DS-assignments-1-3/blob/main/Simple%20linear%20regression(Delivery%20time).ipynb\" target=\"_parent\"><img src=\"https://colab.research.google.com/assets/colab-badge.svg\" alt=\"Open In Colab\"/></a>"
      ]
    },
    {
      "cell_type": "code",
      "execution_count": 1,
      "metadata": {
        "id": "5-jYi8eFPgO4"
      },
      "outputs": [],
      "source": [
        "import pandas as pd\n",
        "import numpy as np\n",
        "import statsmodels.formula.api as smf\n",
        "import matplotlib.pyplot as plt"
      ]
    },
    {
      "cell_type": "code",
      "source": [
        "path = r\"/content/delivery_time.csv\""
      ],
      "metadata": {
        "id": "1Mn1vxHSPsqR"
      },
      "execution_count": 2,
      "outputs": []
    },
    {
      "cell_type": "code",
      "source": [
        "dataset = pd.read_csv(path)"
      ],
      "metadata": {
        "id": "RfYJM40VQEn2"
      },
      "execution_count": 4,
      "outputs": []
    },
    {
      "cell_type": "code",
      "source": [
        "dataset.rename(columns={'Delivery Time': 'DeliveryTime', 'Sorting Time': 'SortingTime'}, inplace=True)"
      ],
      "metadata": {
        "id": "yIRS497QPxo6"
      },
      "execution_count": 5,
      "outputs": []
    },
    {
      "cell_type": "code",
      "source": [
        "model_1 = smf.ols('DeliveryTime ~ SortingTime', data=dataset).fit()"
      ],
      "metadata": {
        "id": "Mwoi43lKQMAk"
      },
      "execution_count": 6,
      "outputs": []
    },
    {
      "cell_type": "code",
      "source": [
        "model_2 = smf.ols('DeliveryTime ~ np.log(SortingTime)', data=dataset).fit()\n"
      ],
      "metadata": {
        "id": "OroD1kd3QW7o"
      },
      "execution_count": 7,
      "outputs": []
    },
    {
      "cell_type": "code",
      "source": [
        "model_3 = smf.ols('DeliveryTime ~ np.sqrt(SortingTime)', data=dataset).fit()"
      ],
      "metadata": {
        "id": "OxpMMOE6QasV"
      },
      "execution_count": 8,
      "outputs": []
    },
    {
      "cell_type": "code",
      "source": [
        "model_4 = smf.ols('DeliveryTime ~ np.exp(SortingTime)', data=dataset).fit()"
      ],
      "metadata": {
        "id": "w7wIaFXbQexJ"
      },
      "execution_count": 9,
      "outputs": []
    },
    {
      "cell_type": "code",
      "source": [
        "print(\"R-squared values:\")\n",
        "print(\"Model 1 (No transformation):\", model_1.rsquared)\n",
        "print(\"Model 2 (Log transformation):\", model_2.rsquared)\n",
        "print(\"Model 3 (Square root transformation):\", model_3.rsquared)\n",
        "print(\"Model 4 (Exponential transformation):\", model_4.rsquared)"
      ],
      "metadata": {
        "colab": {
          "base_uri": "https://localhost:8080/"
        },
        "id": "n5HXmCfOQi9G",
        "outputId": "2a249b88-0029-4b5d-d2f5-23e0c2f6e2af"
      },
      "execution_count": 10,
      "outputs": [
        {
          "output_type": "stream",
          "name": "stdout",
          "text": [
            "R-squared values:\n",
            "Model 1 (No transformation): 0.6822714748417231\n",
            "Model 2 (Log transformation): 0.6954434611324223\n",
            "Model 3 (Square root transformation): 0.695806227630867\n",
            "Model 4 (Exponential transformation): 0.3611177022709089\n"
          ]
        }
      ]
    },
    {
      "cell_type": "code",
      "source": [
        "best_model = model_1\n",
        "best_model_name = \"Model 1 (No transformation)\"\n",
        "\n",
        "if model_2.rsquared > best_model.rsquared:\n",
        "    best_model = model_2\n",
        "    best_model_name = \"Model 2 (Log transformation)\"\n",
        "\n",
        "if model_3.rsquared > best_model.rsquared:\n",
        "    best_model = model_3\n",
        "    best_model_name = \"Model 3 (Square root transformation)\"\n",
        "\n",
        "if model_4.rsquared > best_model.rsquared:\n",
        "    best_model = model_4\n",
        "    best_model_name = \"Model 4 (Exponential transformation)\""
      ],
      "metadata": {
        "id": "FL1WDmJHQnr5"
      },
      "execution_count": 11,
      "outputs": []
    },
    {
      "cell_type": "code",
      "source": [
        "print(\"Best Model:\", best_model_name)"
      ],
      "metadata": {
        "colab": {
          "base_uri": "https://localhost:8080/"
        },
        "id": "iXhHz1iIQs1g",
        "outputId": "e1cd0169-51a7-4591-9569-0487fb3b49dd"
      },
      "execution_count": 12,
      "outputs": [
        {
          "output_type": "stream",
          "name": "stdout",
          "text": [
            "Best Model: Model 3 (Square root transformation)\n"
          ]
        }
      ]
    },
    {
      "cell_type": "code",
      "source": [
        "new_data = pd.DataFrame({'SortingTime': np.linspace(1, 10, 100)})\n",
        "predictions = best_model.predict(new_data)"
      ],
      "metadata": {
        "id": "LINVa3bkQv1t"
      },
      "execution_count": 13,
      "outputs": []
    },
    {
      "cell_type": "code",
      "source": [
        "plt.scatter(dataset['SortingTime'], dataset['DeliveryTime'], color='blue', label='Actual Data')\n",
        "plt.plot(new_data['SortingTime'], predictions, color='red', label='Fitted Line')\n",
        "plt.xlabel('Sorting Time')\n",
        "plt.ylabel('Delivery Time')\n",
        "plt.title('Linear Regression Model')\n",
        "plt.legend()\n",
        "plt.show()"
      ],
      "metadata": {
        "colab": {
          "base_uri": "https://localhost:8080/",
          "height": 472
        },
        "id": "jFpyg6V8Q2oQ",
        "outputId": "068938a7-8005-4295-c10d-4e7863b95bcc"
      },
      "execution_count": 14,
      "outputs": [
        {
          "output_type": "display_data",
          "data": {
            "text/plain": [
              "<Figure size 640x480 with 1 Axes>"
            ],
            "image/png": "[encoded data removed]"
          },
          "metadata": {}
        }
      ]
    }
  ]
}